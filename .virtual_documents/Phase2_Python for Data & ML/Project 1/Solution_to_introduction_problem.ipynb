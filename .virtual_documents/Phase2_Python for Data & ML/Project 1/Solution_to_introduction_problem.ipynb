import json


def load_data(filename):
    with open(filename, "r") as f:
        data = json.load(f)
    return data
#This function will load the json data 


# This function will display users and their connections
def display_user(data):
    print(f"Users and Their connections:")
    for user in data['users']:
       print(f"{user['name']} ({user['id']}) - Friends: {user['friends']} - Liked Pages: {user['liked_pages']}")
    print("\nPage Information:")
    for page in data['pages']:
        print(f"{page['id']}: {page['name']}")


data=load_data("data.json")
display_user(data)
