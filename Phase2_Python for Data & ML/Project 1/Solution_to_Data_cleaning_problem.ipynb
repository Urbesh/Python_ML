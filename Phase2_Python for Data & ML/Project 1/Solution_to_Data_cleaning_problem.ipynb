{
 "cells": [
  {
   "cell_type": "code",
   "execution_count": 1,
   "id": "e50a19fd-b571-40e9-b295-456ac00b172f",
   "metadata": {},
   "outputs": [],
   "source": [
    "import json"
   ]
  },
  {
   "cell_type": "code",
   "execution_count": 2,
   "id": "7e4cd822-c2f0-4e3e-804a-c5aa78854ade",
   "metadata": {},
   "outputs": [],
   "source": [
    "def load_data(file):\n",
    "    with open(file, \"r\") as f:\n",
    "        data = json.load(f)\n",
    "    return data"
   ]
  },
  {
   "cell_type": "code",
   "execution_count": 3,
   "id": "91bcf7f0-3665-46a7-9318-bc01aeb14b82",
   "metadata": {},
   "outputs": [],
   "source": [
    "def clean_data(data):\n",
    "    #Remove users with no user name\n",
    "    data[\"users\"]=[user for user in data[\"users\"] if user[\"name\"].strip()]\n",
    "    #Remove Duplicate Friends Entries\n",
    "    for user in data[\"users\"]:\n",
    "        user[\"friends\"]=list(set(user[\"friends\"]))\n",
    "    # Remove inactive users\n",
    "    data[\"users\"]=[user for user in data[\"users\"] if user[\"friends\"] or user[\"liked_pages\"]]\n",
    "    # Remove duplicate pages\n",
    "    unique_pages={}\n",
    "    for page in data[\"pages\"]:\n",
    "        unique_pages[page[\"id\"]]=page\n",
    "    data[\"pages\"]=list(unique_pages.values())\n",
    "\n",
    "    return data"
   ]
  },
  {
   "cell_type": "code",
   "execution_count": 4,
   "id": "e1711c78-b54a-4ed0-8e0e-c3df50fe6249",
   "metadata": {},
   "outputs": [
    {
     "name": "stdout",
     "output_type": "stream",
     "text": [
      "Data had been cleaned successfully!\n"
     ]
    }
   ],
   "source": [
    "#Load Data\n",
    "data=load_data(\"data_2.json\")\n",
    "data=clean_data(data)\n",
    "json.dump(data, open(\"clean_data.json\", \"w\"), indent=4)\n",
    "print(\"Data had been cleaned successfully!\")"
   ]
  }
 ],
 "metadata": {
  "kernelspec": {
   "display_name": "Python [conda env:base] *",
   "language": "python",
   "name": "conda-base-py"
  },
  "language_info": {
   "codemirror_mode": {
    "name": "ipython",
    "version": 3
   },
   "file_extension": ".py",
   "mimetype": "text/x-python",
   "name": "python",
   "nbconvert_exporter": "python",
   "pygments_lexer": "ipython3",
   "version": "3.13.5"
  }
 },
 "nbformat": 4,
 "nbformat_minor": 5
}
