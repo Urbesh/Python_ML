{
 "cells": [
  {
   "cell_type": "markdown",
   "id": "0a9904c0",
   "metadata": {},
   "source": [
    "# Finding \"Pages You Might Like\"\n",
    "We've officially reached the final milestone of our first data science project at CodeBook – The Social Media for Coders. After cleaning messy data and building features like People You May Know, it's time to launch our last feature: Pages You Might Like.\n",
    "\n",
    "Why This Matters\n",
    "In real-world social networks, content discovery keeps users engaged. This feature simulates that experience using nothing but pure Python, showing how even simple logic can power impactful insights. So now the situation is that your manager is impressed with your 'People You May Know' feature and now assigns you a new challenge: Recommend pages that users might like!\n",
    "\n",
    "On social media platforms, users interact with pages by liking, following, or engaging with posts. The goal is to analyze these interactions and suggest relevant pages based on user behavior.\n",
    "\n",
    "# **Task 1: Understanding the Recommendation Logic**\n",
    "# **How 'Pages You Might Like' Works:**\n",
    "Users engage with pages (like, comment, share, etc.).\n",
    "If two users have interacted with similar pages, they are likely to have common interests.\n",
    "For the sake of this implementation, we consider liking a page as an interaction\n",
    "Pages followed by similar users should be recommended.\n",
    "Example:\n",
    "\n",
    "Amit (ID: 1) likes Python Hub (Page ID: 101) and AI World (Page ID: 102).\n",
    "Priya (ID: 2) likes AI World (Page ID: 102) and Data Science Daily (Page ID: 103).\n",
    "Since Amit and Priya both like AI World (102), we suggest Data Science Daily (103) to Amit and Python Hub (101) to Priya.\n",
    "What we are using here is called collaborative filtering:\n",
    "\n",
    "\"If two people like the same thing, maybe they’ll like other things each one likes too.\"\n",
    "\n",
    "This is a basic form of a real-world recommendation engine, and our task is to implement it in pure Python. Let's Go!\n",
    "\n",
    "# **Task 2: Implement the Algorithm**\n",
    "We'll create a function that:\n",
    "\n",
    "Maps users to pages they have interacted with.\n",
    "Identifies pages liked by users with similar interests.\n",
    "Ranks recommendations based on common interactions.\n",
    "\n",
    "# **Expected Output:**\n",
    "If Amit (ID: 1) and Priya (ID: 2) both like AI World (102), and Priya also likes Data Science Daily (103), the output might be:\n",
    "\n",
    "Pages You Might Like for User 1: [103]\n",
    "This suggests that Amit might be interested in 'Data Science Daily'!\n",
    "\n",
    "Now this was a very simple case, there is a chance that two users like 10 pages each, in that case all the pages liked by user 1 will be recommended to user 2 and vice versa. The score of this recommendation is the number of common pages they like\n",
    "\n"
   ]
  }
 ],
 "metadata": {
  "kernelspec": {
   "display_name": "Python [conda env:base] *",
   "language": "python",
   "name": "conda-base-py"
  },
  "language_info": {
   "codemirror_mode": {
    "name": "ipython",
    "version": 3
   },
   "file_extension": ".py",
   "mimetype": "text/x-python",
   "name": "python",
   "nbconvert_exporter": "python",
   "pygments_lexer": "ipython3",
   "version": "3.12.7"
  }
 },
 "nbformat": 4,
 "nbformat_minor": 5
}
