{
 "cells": [
  {
   "cell_type": "markdown",
   "id": "6905b43c-295a-4e85-9b42-779f55e08e17",
   "metadata": {},
   "source": [
    "# Finding \"People You May Know\"\n",
    "\n",
    "## **Introduction**\n",
    "Now that our data is cleaned and structured, your manager assigns you a new task: **Build a 'People You May Know' feature!**\n",
    "\n",
    "In social networks, this feature helps users connect with others by suggesting friends based on mutual connections. Your job is to **analyze mutual friends and recommend potential connections**.\n",
    "\n",
    "---\n",
    "\n",
    "## **Task 1: Understand the Logic**\n",
    "### **How 'People You May Know' Works:**\n",
    "- If **User A** and **User B** are not friends but have **mutual friends**, we suggest User B to User A and vice versa.\n",
    "- More mutual friends = higher priority recommendation.\n",
    "\n",
    "Example:\n",
    "- **Amit (ID: 1)** is friends with **Priya (ID: 2)** and **Rahul (ID: 3)**.\n",
    "- **Priya (ID: 2)** is friends with **Sara (ID: 4)**.\n",
    "- Amit is not directly friends with Sara, but they share **Priya as a mutual friend**.\n",
    "- Suggest **Sara to Amit** as \"People You May Know\".\n",
    "\n",
    "---\n",
    "\n",
    "## **Task 2: Implement the Algorithm**\n",
    "We'll create a function that:\n",
    "1. Finds all friends of a given user.\n",
    "2. Identifies mutual friends between non-friends.\n",
    "3. Ranks recommendations by the number of mutual friends.\n",
    "\n",
    "---\n",
    "\n",
    "## **Expected Output:**\n",
    "If Amit (ID: 1) and Sara (ID: 4) share Priya (ID: 2) as a mutual friend, the output might be:\n",
    "```\n",
    "People You May Know for User 1: [4]\n",
    "```\n",
    "This suggests that **Amit should connect with Sara!**\n",
    "\n",
    "---\n",
    "\n",
    "## **Next Steps**\n",
    "Your manager is excited about your progress and now says: **\"Great job! Next, let's find 'Pages You Might Like' based on your connections and preferences.\"**\n",
    "\n",
    "\n"
   ]
  }
 ],
 "metadata": {
  "kernelspec": {
   "display_name": "Python [conda env:base] *",
   "language": "python",
   "name": "conda-base-py"
  },
  "language_info": {
   "codemirror_mode": {
    "name": "ipython",
    "version": 3
   },
   "file_extension": ".py",
   "mimetype": "text/x-python",
   "name": "python",
   "nbconvert_exporter": "python",
   "pygments_lexer": "ipython3",
   "version": "3.12.7"
  }
 },
 "nbformat": 4,
 "nbformat_minor": 5
}
