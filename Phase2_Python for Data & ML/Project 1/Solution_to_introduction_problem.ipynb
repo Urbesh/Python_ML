{
 "cells": [
  {
   "cell_type": "code",
   "execution_count": 1,
   "id": "39b13fa1-de84-46e6-a6e6-1875c23b4d7f",
   "metadata": {},
   "outputs": [],
   "source": [
    "import json"
   ]
  },
  {
   "cell_type": "code",
   "execution_count": 2,
   "id": "9f130dbd-22e9-4edf-b1ba-f71369df7b4f",
   "metadata": {},
   "outputs": [],
   "source": [
    "def load_data(filename):\n",
    "    with open(filename, \"r\") as f:\n",
    "        data = json.load(f)\n",
    "    return data\n",
    "#This function will load the json data "
   ]
  },
  {
   "cell_type": "code",
   "execution_count": 3,
   "id": "2bbf7ccd-23bf-4e0f-8650-15bff159146d",
   "metadata": {},
   "outputs": [],
   "source": [
    "# This function will display users and their connections\n",
    "def display_user(data):\n",
    "    print(f\"Users and Their connections:\")\n",
    "    for user in data['users']:\n",
    "       print(f\"{user['name']} ({user['id']}) - Friends: {user['friends']} - Liked Pages: {user['liked_pages']}\")\n",
    "    print(\"\\nPage Information:\")\n",
    "    for page in data['pages']:\n",
    "        print(f\"{page['id']}: {page['name']}\")"
   ]
  },
  {
   "cell_type": "code",
   "execution_count": 4,
   "id": "e3e3c394-2a09-41c9-850f-bfcc1a667a6c",
   "metadata": {},
   "outputs": [
    {
     "name": "stdout",
     "output_type": "stream",
     "text": [
      "Users and Their connections:\n",
      "Amit (1) - Friends: [2, 3] - Liked Pages: [101]\n",
      "Priya (2) - Friends: [1, 4] - Liked Pages: [102]\n",
      "Rahul (3) - Friends: [1] - Liked Pages: [101, 103]\n",
      "Sara (4) - Friends: [2] - Liked Pages: [104]\n",
      "\n",
      "Page Information:\n",
      "101: Python Developers\n",
      "102: Data Science Enthusiasts\n",
      "103: AI & ML Community\n",
      "104: Web Dev Hub\n"
     ]
    }
   ],
   "source": [
    "data=load_data(\"data.json\")\n",
    "display_user(data)"
   ]
  }
 ],
 "metadata": {
  "kernelspec": {
   "display_name": "Python [conda env:base] *",
   "language": "python",
   "name": "conda-base-py"
  },
  "language_info": {
   "codemirror_mode": {
    "name": "ipython",
    "version": 3
   },
   "file_extension": ".py",
   "mimetype": "text/x-python",
   "name": "python",
   "nbconvert_exporter": "python",
   "pygments_lexer": "ipython3",
   "version": "3.13.5"
  }
 },
 "nbformat": 4,
 "nbformat_minor": 5
}
