{
 "cells": [
  {
   "cell_type": "code",
   "execution_count": 1,
   "id": "39b13fa1-de84-46e6-a6e6-1875c23b4d7f",
   "metadata": {},
   "outputs": [],
   "source": [
    "import json"
   ]
  },
  {
   "cell_type": "code",
   "execution_count": 2,
   "id": "9f130dbd-22e9-4edf-b1ba-f71369df7b4f",
   "metadata": {},
   "outputs": [],
   "source": [
    "def load_data(filename):\n",
    "    with open(filename, \"r\") as f:\n",
    "        data = json.load(f)\n",
    "    return data\n",
    "#This function will load the json data "
   ]
  },
  {
   "cell_type": "code",
   "execution_count": 6,
   "id": "2bbf7ccd-23bf-4e0f-8650-15bff159146d",
   "metadata": {},
   "outputs": [
    {
     "name": "stdout",
     "output_type": "stream",
     "text": [
      "Users and Their connections:\n",
      "\n",
      "Amit (1) - Friends: [2, 3] - Liked Pages: [101]\n",
      "Priya (2) - Friends: [1, 4] - Liked Pages: [102]\n",
      "Rahul (3) - Friends: [1] - Liked Pages: [101, 103]\n",
      "Sara (4) - Friends: [2] - Liked Pages: [104]\n"
     ]
    }
   ],
   "source": [
    "# This function will display users and their connections\n",
    "def display_user(data):\n",
    "    print(f\"Users and Their connections:\\n\")\n",
    "    for user in data['users']:\n",
    "       print(f\"{user['name']} ({user['id']}) - Friends: {user['friends']} - Liked Pages: {user['liked_pages']}\")\n",
    "    print(\"Page Information:\\n\")\n",
    "    for page in data['pages']:\n",
    "        print(f\"{page['id']: {page['name']}}\")\n",
    "display_user(data)"
   ]
  },
  {
   "cell_type": "code",
   "execution_count": null,
   "id": "e3e3c394-2a09-41c9-850f-bfcc1a667a6c",
   "metadata": {},
   "outputs": [],
   "source": []
  }
 ],
 "metadata": {
  "kernelspec": {
   "display_name": "Python [conda env:base] *",
   "language": "python",
   "name": "conda-base-py"
  },
  "language_info": {
   "codemirror_mode": {
    "name": "ipython",
    "version": 3
   },
   "file_extension": ".py",
   "mimetype": "text/x-python",
   "name": "python",
   "nbconvert_exporter": "python",
   "pygments_lexer": "ipython3",
   "version": "3.13.5"
  }
 },
 "nbformat": 4,
 "nbformat_minor": 5
}
