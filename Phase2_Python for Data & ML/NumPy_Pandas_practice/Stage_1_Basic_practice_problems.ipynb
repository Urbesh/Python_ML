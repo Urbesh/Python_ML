{
 "cells": [
  {
   "cell_type": "markdown",
   "id": "13ea0f73",
   "metadata": {},
   "source": [
    "# Problems:\n",
    "\n",
    "1. Load the CSV into a Pandas DataFrame.\n",
    "\n",
    "    Display the first 3 rows and summary statistics.\n",
    "\n",
    "2. Using NumPy, create an array of all marks and compute:\n",
    "\n",
    "    Mean, median, and standard deviation.\n",
    "\n",
    "3. Display all students with marks greater than 80.\n",
    "\n",
    "4. Add a new column \"Result\" → “Pass” if Marks ≥ 75 else “Fail”.\n",
    "\n",
    "5. Add a new column \"Eligible_for_interview\" → \"Yes\" if Age >=20 else \"No\". \n",
    "\n",
    "6. Find how many students are from each city.\n",
    "\n",
    "7. Change all city names to uppercase using Pandas string operations.\n",
    "\n",
    "8. Sort the students by Marks in descending order."
   ]
  },
  {
   "cell_type": "code",
   "execution_count": 1,
   "id": "bed0f95d",
   "metadata": {},
   "outputs": [],
   "source": [
    "import pandas as pd\n",
    "import numpy as np"
   ]
  },
  {
   "cell_type": "code",
   "execution_count": 2,
   "id": "00c644cc",
   "metadata": {},
   "outputs": [
    {
     "data": {
      "text/html": [
       "<div>\n",
       "<style scoped>\n",
       "    .dataframe tbody tr th:only-of-type {\n",
       "        vertical-align: middle;\n",
       "    }\n",
       "\n",
       "    .dataframe tbody tr th {\n",
       "        vertical-align: top;\n",
       "    }\n",
       "\n",
       "    .dataframe thead th {\n",
       "        text-align: right;\n",
       "    }\n",
       "</style>\n",
       "<table border=\"1\" class=\"dataframe\">\n",
       "  <thead>\n",
       "    <tr style=\"text-align: right;\">\n",
       "      <th></th>\n",
       "      <th>Name</th>\n",
       "      <th>Age</th>\n",
       "      <th>Marks</th>\n",
       "      <th>City</th>\n",
       "    </tr>\n",
       "  </thead>\n",
       "  <tbody>\n",
       "    <tr>\n",
       "      <th>0</th>\n",
       "      <td>Arjun</td>\n",
       "      <td>20</td>\n",
       "      <td>85</td>\n",
       "      <td>Delhi</td>\n",
       "    </tr>\n",
       "    <tr>\n",
       "      <th>1</th>\n",
       "      <td>Neha</td>\n",
       "      <td>22</td>\n",
       "      <td>90</td>\n",
       "      <td>Mumbai</td>\n",
       "    </tr>\n",
       "    <tr>\n",
       "      <th>2</th>\n",
       "      <td>Ravi</td>\n",
       "      <td>19</td>\n",
       "      <td>76</td>\n",
       "      <td>Bangalore</td>\n",
       "    </tr>\n",
       "  </tbody>\n",
       "</table>\n",
       "</div>"
      ],
      "text/plain": [
       "    Name  Age  Marks       City\n",
       "0  Arjun   20     85      Delhi\n",
       "1   Neha   22     90     Mumbai\n",
       "2   Ravi   19     76  Bangalore"
      ]
     },
     "execution_count": 2,
     "metadata": {},
     "output_type": "execute_result"
    }
   ],
   "source": [
    "df = pd.read_csv(\"basic_data.csv\")\n",
    "df.head(3)"
   ]
  },
  {
   "cell_type": "code",
   "execution_count": 3,
   "id": "9522f33b",
   "metadata": {},
   "outputs": [
    {
     "name": "stdout",
     "output_type": "stream",
     "text": [
      "[85 90 76 92 70 88]\n"
     ]
    }
   ],
   "source": [
    "arr = df['Marks'].to_numpy()\n",
    "print(arr)"
   ]
  },
  {
   "cell_type": "code",
   "execution_count": 4,
   "id": "0b914326",
   "metadata": {},
   "outputs": [
    {
     "data": {
      "text/html": [
       "<div>\n",
       "<style scoped>\n",
       "    .dataframe tbody tr th:only-of-type {\n",
       "        vertical-align: middle;\n",
       "    }\n",
       "\n",
       "    .dataframe tbody tr th {\n",
       "        vertical-align: top;\n",
       "    }\n",
       "\n",
       "    .dataframe thead th {\n",
       "        text-align: right;\n",
       "    }\n",
       "</style>\n",
       "<table border=\"1\" class=\"dataframe\">\n",
       "  <thead>\n",
       "    <tr style=\"text-align: right;\">\n",
       "      <th></th>\n",
       "      <th>Name</th>\n",
       "      <th>Age</th>\n",
       "      <th>Marks</th>\n",
       "      <th>City</th>\n",
       "      <th>Result</th>\n",
       "    </tr>\n",
       "  </thead>\n",
       "  <tbody>\n",
       "    <tr>\n",
       "      <th>0</th>\n",
       "      <td>Arjun</td>\n",
       "      <td>20</td>\n",
       "      <td>85</td>\n",
       "      <td>Delhi</td>\n",
       "      <td>Pass</td>\n",
       "    </tr>\n",
       "    <tr>\n",
       "      <th>1</th>\n",
       "      <td>Neha</td>\n",
       "      <td>22</td>\n",
       "      <td>90</td>\n",
       "      <td>Mumbai</td>\n",
       "      <td>Pass</td>\n",
       "    </tr>\n",
       "    <tr>\n",
       "      <th>2</th>\n",
       "      <td>Ravi</td>\n",
       "      <td>19</td>\n",
       "      <td>76</td>\n",
       "      <td>Bangalore</td>\n",
       "      <td>Pass</td>\n",
       "    </tr>\n",
       "    <tr>\n",
       "      <th>3</th>\n",
       "      <td>Simran</td>\n",
       "      <td>21</td>\n",
       "      <td>92</td>\n",
       "      <td>Delhi</td>\n",
       "      <td>Pass</td>\n",
       "    </tr>\n",
       "    <tr>\n",
       "      <th>4</th>\n",
       "      <td>Kabir</td>\n",
       "      <td>20</td>\n",
       "      <td>70</td>\n",
       "      <td>Chennai</td>\n",
       "      <td>Fail</td>\n",
       "    </tr>\n",
       "  </tbody>\n",
       "</table>\n",
       "</div>"
      ],
      "text/plain": [
       "     Name  Age  Marks       City Result\n",
       "0   Arjun   20     85      Delhi   Pass\n",
       "1    Neha   22     90     Mumbai   Pass\n",
       "2    Ravi   19     76  Bangalore   Pass\n",
       "3  Simran   21     92      Delhi   Pass\n",
       "4   Kabir   20     70    Chennai   Fail"
      ]
     },
     "execution_count": 4,
     "metadata": {},
     "output_type": "execute_result"
    }
   ],
   "source": [
    "df['Result'] = np.where(df['Marks'] >= 75, 'Pass', 'Fail')\n",
    "df.head()"
   ]
  },
  {
   "cell_type": "code",
   "execution_count": 5,
   "id": "af546153",
   "metadata": {},
   "outputs": [
    {
     "data": {
      "text/html": [
       "<div>\n",
       "<style scoped>\n",
       "    .dataframe tbody tr th:only-of-type {\n",
       "        vertical-align: middle;\n",
       "    }\n",
       "\n",
       "    .dataframe tbody tr th {\n",
       "        vertical-align: top;\n",
       "    }\n",
       "\n",
       "    .dataframe thead th {\n",
       "        text-align: right;\n",
       "    }\n",
       "</style>\n",
       "<table border=\"1\" class=\"dataframe\">\n",
       "  <thead>\n",
       "    <tr style=\"text-align: right;\">\n",
       "      <th></th>\n",
       "      <th>Name</th>\n",
       "      <th>Age</th>\n",
       "      <th>Marks</th>\n",
       "      <th>City</th>\n",
       "      <th>Result</th>\n",
       "      <th>Eligible_for_interview</th>\n",
       "    </tr>\n",
       "  </thead>\n",
       "  <tbody>\n",
       "    <tr>\n",
       "      <th>0</th>\n",
       "      <td>Arjun</td>\n",
       "      <td>20</td>\n",
       "      <td>85</td>\n",
       "      <td>Delhi</td>\n",
       "      <td>Pass</td>\n",
       "      <td>Yes</td>\n",
       "    </tr>\n",
       "    <tr>\n",
       "      <th>1</th>\n",
       "      <td>Neha</td>\n",
       "      <td>22</td>\n",
       "      <td>90</td>\n",
       "      <td>Mumbai</td>\n",
       "      <td>Pass</td>\n",
       "      <td>Yes</td>\n",
       "    </tr>\n",
       "    <tr>\n",
       "      <th>2</th>\n",
       "      <td>Ravi</td>\n",
       "      <td>19</td>\n",
       "      <td>76</td>\n",
       "      <td>Bangalore</td>\n",
       "      <td>Pass</td>\n",
       "      <td>No</td>\n",
       "    </tr>\n",
       "    <tr>\n",
       "      <th>3</th>\n",
       "      <td>Simran</td>\n",
       "      <td>21</td>\n",
       "      <td>92</td>\n",
       "      <td>Delhi</td>\n",
       "      <td>Pass</td>\n",
       "      <td>Yes</td>\n",
       "    </tr>\n",
       "    <tr>\n",
       "      <th>4</th>\n",
       "      <td>Kabir</td>\n",
       "      <td>20</td>\n",
       "      <td>70</td>\n",
       "      <td>Chennai</td>\n",
       "      <td>Fail</td>\n",
       "      <td>Yes</td>\n",
       "    </tr>\n",
       "  </tbody>\n",
       "</table>\n",
       "</div>"
      ],
      "text/plain": [
       "     Name  Age  Marks       City Result Eligible_for_interview\n",
       "0   Arjun   20     85      Delhi   Pass                    Yes\n",
       "1    Neha   22     90     Mumbai   Pass                    Yes\n",
       "2    Ravi   19     76  Bangalore   Pass                     No\n",
       "3  Simran   21     92      Delhi   Pass                    Yes\n",
       "4   Kabir   20     70    Chennai   Fail                    Yes"
      ]
     },
     "execution_count": 5,
     "metadata": {},
     "output_type": "execute_result"
    }
   ],
   "source": [
    "df['Eligible_for_interview'] = np.where(df['Age'] >= 20, 'Yes', 'No')\n",
    "df.head()"
   ]
  },
  {
   "cell_type": "code",
   "execution_count": 6,
   "id": "19a1b0b2",
   "metadata": {},
   "outputs": [],
   "source": [
    "df2=df\n",
    "df2.to_csv(\"updated_data.csv\", index=False)"
   ]
  },
  {
   "cell_type": "code",
   "execution_count": 7,
   "id": "4f8ca976",
   "metadata": {},
   "outputs": [
    {
     "data": {
      "text/plain": [
       "City\n",
       "Bangalore    1\n",
       "Chennai      1\n",
       "Delhi        2\n",
       "Kolkata      1\n",
       "Mumbai       1\n",
       "Name: Name, dtype: int64"
      ]
     },
     "execution_count": 7,
     "metadata": {},
     "output_type": "execute_result"
    }
   ],
   "source": [
    "df2.groupby(\"City\")[\"Name\"].count()"
   ]
  },
  {
   "cell_type": "code",
   "execution_count": 8,
   "id": "1be48c24",
   "metadata": {},
   "outputs": [
    {
     "data": {
      "text/plain": [
       "0        DELHI\n",
       "1       MUMBAI\n",
       "2    BANGALORE\n",
       "3        DELHI\n",
       "4      CHENNAI\n",
       "5      KOLKATA\n",
       "Name: City, dtype: object"
      ]
     },
     "execution_count": 8,
     "metadata": {},
     "output_type": "execute_result"
    }
   ],
   "source": [
    "df2[\"City\"].str.upper()\n"
   ]
  },
  {
   "cell_type": "code",
   "execution_count": 9,
   "id": "d58d6b78",
   "metadata": {},
   "outputs": [
    {
     "data": {
      "text/html": [
       "<div>\n",
       "<style scoped>\n",
       "    .dataframe tbody tr th:only-of-type {\n",
       "        vertical-align: middle;\n",
       "    }\n",
       "\n",
       "    .dataframe tbody tr th {\n",
       "        vertical-align: top;\n",
       "    }\n",
       "\n",
       "    .dataframe thead th {\n",
       "        text-align: right;\n",
       "    }\n",
       "</style>\n",
       "<table border=\"1\" class=\"dataframe\">\n",
       "  <thead>\n",
       "    <tr style=\"text-align: right;\">\n",
       "      <th></th>\n",
       "      <th>Name</th>\n",
       "      <th>Age</th>\n",
       "      <th>Marks</th>\n",
       "      <th>City</th>\n",
       "      <th>Result</th>\n",
       "      <th>Eligible_for_interview</th>\n",
       "    </tr>\n",
       "  </thead>\n",
       "  <tbody>\n",
       "    <tr>\n",
       "      <th>3</th>\n",
       "      <td>Simran</td>\n",
       "      <td>21</td>\n",
       "      <td>92</td>\n",
       "      <td>Delhi</td>\n",
       "      <td>Pass</td>\n",
       "      <td>Yes</td>\n",
       "    </tr>\n",
       "    <tr>\n",
       "      <th>1</th>\n",
       "      <td>Neha</td>\n",
       "      <td>22</td>\n",
       "      <td>90</td>\n",
       "      <td>Mumbai</td>\n",
       "      <td>Pass</td>\n",
       "      <td>Yes</td>\n",
       "    </tr>\n",
       "    <tr>\n",
       "      <th>5</th>\n",
       "      <td>Ananya</td>\n",
       "      <td>23</td>\n",
       "      <td>88</td>\n",
       "      <td>Kolkata</td>\n",
       "      <td>Pass</td>\n",
       "      <td>Yes</td>\n",
       "    </tr>\n",
       "    <tr>\n",
       "      <th>0</th>\n",
       "      <td>Arjun</td>\n",
       "      <td>20</td>\n",
       "      <td>85</td>\n",
       "      <td>Delhi</td>\n",
       "      <td>Pass</td>\n",
       "      <td>Yes</td>\n",
       "    </tr>\n",
       "    <tr>\n",
       "      <th>2</th>\n",
       "      <td>Ravi</td>\n",
       "      <td>19</td>\n",
       "      <td>76</td>\n",
       "      <td>Bangalore</td>\n",
       "      <td>Pass</td>\n",
       "      <td>No</td>\n",
       "    </tr>\n",
       "    <tr>\n",
       "      <th>4</th>\n",
       "      <td>Kabir</td>\n",
       "      <td>20</td>\n",
       "      <td>70</td>\n",
       "      <td>Chennai</td>\n",
       "      <td>Fail</td>\n",
       "      <td>Yes</td>\n",
       "    </tr>\n",
       "  </tbody>\n",
       "</table>\n",
       "</div>"
      ],
      "text/plain": [
       "     Name  Age  Marks       City Result Eligible_for_interview\n",
       "3  Simran   21     92      Delhi   Pass                    Yes\n",
       "1    Neha   22     90     Mumbai   Pass                    Yes\n",
       "5  Ananya   23     88    Kolkata   Pass                    Yes\n",
       "0   Arjun   20     85      Delhi   Pass                    Yes\n",
       "2    Ravi   19     76  Bangalore   Pass                     No\n",
       "4   Kabir   20     70    Chennai   Fail                    Yes"
      ]
     },
     "execution_count": 9,
     "metadata": {},
     "output_type": "execute_result"
    }
   ],
   "source": [
    "df2.sort_values(\"Marks\", ascending=False)"
   ]
  }
 ],
 "metadata": {
  "kernelspec": {
   "display_name": "Python 3",
   "language": "python",
   "name": "python3"
  },
  "language_info": {
   "codemirror_mode": {
    "name": "ipython",
    "version": 3
   },
   "file_extension": ".py",
   "mimetype": "text/x-python",
   "name": "python",
   "nbconvert_exporter": "python",
   "pygments_lexer": "ipython3",
   "version": "3.12.4"
  }
 },
 "nbformat": 4,
 "nbformat_minor": 5
}
