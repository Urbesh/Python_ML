{
 "cells": [
  {
   "cell_type": "markdown",
   "id": "4ffe0042",
   "metadata": {},
   "source": [
    "# Basic Level\n",
    "\n",
    "# (Focus: Familiarity with Series, DataFrames, Selection)\n",
    "\n",
    "1. Create a Series of student marks and assign custom index labels as student names.\n",
    "   → Then display only students who scored above 80.\n",
    "\n",
    "2. Create a DataFrame with columns Name, Age, and City.\n",
    "   → Change column names to uppercase using Pandas.\n",
    "\n",
    "3. Read a CSV file named \"students.csv\" and show:\n",
    "\n",
    "     First 3 rows\n",
    "\n",
    "     Column names\n",
    "\n",
    "     Number of rows and columns.\n",
    "\n",
    "4. Create a DataFrame from a Python dictionary and access:\n",
    "\n",
    "     The second row using .iloc[]\n",
    "\n",
    "     The Age column using .loc[].\n",
    "\n",
    "5. Create a new column AgeGroup:\n",
    "\n",
    "     If Age ≥ 18 → “Adult”\n",
    "\n",
    "     Else → “Minor”."
   ]
  },
  {
   "cell_type": "code",
   "execution_count": 1,
   "id": "2bac735b",
   "metadata": {},
   "outputs": [],
   "source": [
    "import pandas as pd\n",
    "import numpy as np"
   ]
  },
  {
   "cell_type": "code",
   "execution_count": 8,
   "id": "dbbf7cfd",
   "metadata": {},
   "outputs": [
    {
     "name": "stdout",
     "output_type": "stream",
     "text": [
      "   Student Name  Student Marks\n",
      "0         Larry             51\n",
      "1          Page             99\n",
      "2         Paper             84\n",
      "3          Tony             68\n",
      "4       Captain             96\n",
      "5       Antonio             82\n",
      "6         Smith             62\n",
      "7           Ant             91\n",
      "8        Spider             51\n",
      "9          Hwak             54\n",
      "10        Rohit             66\n",
      "11        Mohit             72\n"
     ]
    }
   ],
   "source": [
    "student_marks = np.random.randint(42, 101, size=12) \n",
    "student_name = [\"Larry\",\"Page\",\"Paper\",\"Tony\",\"Captain\",\"Antonio\",\"Smith\",\"Ant\",\"Spider\",\"Hwak\",\"Rohit\",\"Mohit\"]\n",
    "\n",
    "df = pd.DataFrame({\n",
    "    \"Student Name\": student_name,\n",
    "    \"Student Marks\": student_marks\n",
    "})\n",
    "print(df)"
   ]
  },
  {
   "cell_type": "code",
   "execution_count": null,
   "id": "1cd6fb84",
   "metadata": {},
   "outputs": [
    {
     "name": "stdout",
     "output_type": "stream",
     "text": [
      "  Student Name  Student Marks\n",
      "1         Page             99\n",
      "2        Paper             84\n",
      "4      Captain             96\n",
      "5      Antonio             82\n",
      "7          Ant             91\n"
     ]
    }
   ],
   "source": [
    "mask=df['Student Marks']>80\n",
    "print(df.loc[mask,['Student Name','Student Marks']])"
   ]
  }
 ],
 "metadata": {
  "kernelspec": {
   "display_name": "Python 3",
   "language": "python",
   "name": "python3"
  },
  "language_info": {
   "codemirror_mode": {
    "name": "ipython",
    "version": 3
   },
   "file_extension": ".py",
   "mimetype": "text/x-python",
   "name": "python",
   "nbconvert_exporter": "python",
   "pygments_lexer": "ipython3",
   "version": "3.12.4"
  }
 },
 "nbformat": 4,
 "nbformat_minor": 5
}
