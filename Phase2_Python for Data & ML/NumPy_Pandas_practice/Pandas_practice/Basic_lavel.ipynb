{
 "cells": [
  {
   "cell_type": "markdown",
   "id": "4ffe0042",
   "metadata": {},
   "source": [
    "# Basic Level\n",
    "\n",
    "# (Focus: Familiarity with Series, DataFrames, Selection)\n",
    "\n",
    "1. Create a Series of student marks and assign custom index labels as student names.\n",
    "   → Then display only students who scored above 80.\n",
    "\n",
    "2. Create a DataFrame with columns Name, Age, and City.\n",
    "   → Change column names to uppercase using Pandas.\n",
    "\n",
    "3. Read a CSV file named \"students.csv\" and show:\n",
    "\n",
    "     First 3 rows\n",
    "\n",
    "     Column names\n",
    "\n",
    "     Number of rows and columns.\n",
    "\n",
    "4. Create a DataFrame from a Python dictionary and access:\n",
    "\n",
    "     The second row using .iloc[]\n",
    "\n",
    "     The Age column using .loc[].\n",
    "\n",
    "5. Create a new column AgeGroup:\n",
    "\n",
    "     If Age ≥ 18 → “Adult”\n",
    "\n",
    "     Else → “Minor”."
   ]
  },
  {
   "cell_type": "code",
   "execution_count": 1,
   "id": "2bac735b",
   "metadata": {},
   "outputs": [],
   "source": [
    "import pandas as pd\n",
    "import numpy as np"
   ]
  },
  {
   "cell_type": "code",
   "execution_count": 2,
   "id": "dbbf7cfd",
   "metadata": {},
   "outputs": [
    {
     "name": "stdout",
     "output_type": "stream",
     "text": [
      "   Student Name  Student Marks\n",
      "0         Larry             75\n",
      "1          Page             78\n",
      "2         Paper             94\n",
      "3          Tony             89\n",
      "4       Captain             78\n",
      "5       Antonio             68\n",
      "6         Smith             67\n",
      "7           Ant             46\n",
      "8        Spider             80\n",
      "9          Hwak             65\n",
      "10        Rohit             96\n",
      "11        Mohit             54\n"
     ]
    }
   ],
   "source": [
    "student_marks = np.random.randint(42, 101, size=12) \n",
    "student_name = [\"Larry\",\"Page\",\"Paper\",\"Tony\",\"Captain\",\"Antonio\",\"Smith\",\"Ant\",\"Spider\",\"Hwak\",\"Rohit\",\"Mohit\"]\n",
    "\n",
    "df = pd.DataFrame({\n",
    "    \"Student Name\": student_name,\n",
    "    \"Student Marks\": student_marks\n",
    "})\n",
    "print(df)"
   ]
  },
  {
   "cell_type": "code",
   "execution_count": 3,
   "id": "1cd6fb84",
   "metadata": {},
   "outputs": [
    {
     "name": "stdout",
     "output_type": "stream",
     "text": [
      "   Student Name  Student Marks\n",
      "2         Paper             94\n",
      "3          Tony             89\n",
      "10        Rohit             96\n"
     ]
    }
   ],
   "source": [
    "mask=df['Student Marks']>80\n",
    "print(df.loc[mask,['Student Name','Student Marks']])"
   ]
  },
  {
   "cell_type": "code",
   "execution_count": 4,
   "id": "79e44d9d",
   "metadata": {},
   "outputs": [
    {
     "name": "stdout",
     "output_type": "stream",
     "text": [
      "Empty DataFrame\n",
      "Columns: [Name, Age, City]\n",
      "Index: []\n"
     ]
    }
   ],
   "source": [
    "data={\n",
    "    \"Name\":[],\n",
    "    \"Age\":[],\n",
    "    \"City\":[]\n",
    "}\n",
    "df1=pd.DataFrame(data)\n",
    "print(df1)"
   ]
  },
  {
   "cell_type": "code",
   "execution_count": 5,
   "id": "87ca5235",
   "metadata": {},
   "outputs": [
    {
     "data": {
      "text/plain": [
       "Index(['NAME', 'AGE', 'CITY'], dtype='object')"
      ]
     },
     "execution_count": 5,
     "metadata": {},
     "output_type": "execute_result"
    }
   ],
   "source": [
    "df1.columns.str.upper()"
   ]
  },
  {
   "cell_type": "code",
   "execution_count": 6,
   "id": "3abc82ee",
   "metadata": {},
   "outputs": [
    {
     "data": {
      "text/html": [
       "<div>\n",
       "<style scoped>\n",
       "    .dataframe tbody tr th:only-of-type {\n",
       "        vertical-align: middle;\n",
       "    }\n",
       "\n",
       "    .dataframe tbody tr th {\n",
       "        vertical-align: top;\n",
       "    }\n",
       "\n",
       "    .dataframe thead th {\n",
       "        text-align: right;\n",
       "    }\n",
       "</style>\n",
       "<table border=\"1\" class=\"dataframe\">\n",
       "  <thead>\n",
       "    <tr style=\"text-align: right;\">\n",
       "      <th></th>\n",
       "      <th>Name</th>\n",
       "      <th>Age</th>\n",
       "      <th>City</th>\n",
       "      <th>Score</th>\n",
       "    </tr>\n",
       "  </thead>\n",
       "  <tbody>\n",
       "    <tr>\n",
       "      <th>0</th>\n",
       "      <td>Alice</td>\n",
       "      <td>20.0</td>\n",
       "      <td>Delhi</td>\n",
       "      <td>85</td>\n",
       "    </tr>\n",
       "    <tr>\n",
       "      <th>1</th>\n",
       "      <td>Bob</td>\n",
       "      <td>22.0</td>\n",
       "      <td>Mumbai</td>\n",
       "      <td>90</td>\n",
       "    </tr>\n",
       "    <tr>\n",
       "      <th>2</th>\n",
       "      <td>Charlie</td>\n",
       "      <td>19.0</td>\n",
       "      <td>Delhi</td>\n",
       "      <td>78</td>\n",
       "    </tr>\n",
       "  </tbody>\n",
       "</table>\n",
       "</div>"
      ],
      "text/plain": [
       "      Name   Age    City  Score\n",
       "0    Alice  20.0   Delhi     85\n",
       "1      Bob  22.0  Mumbai     90\n",
       "2  Charlie  19.0   Delhi     78"
      ]
     },
     "execution_count": 6,
     "metadata": {},
     "output_type": "execute_result"
    }
   ],
   "source": [
    "df2=pd.read_csv(\"students.csv\")\n",
    "df2.head(3)"
   ]
  },
  {
   "cell_type": "code",
   "execution_count": 7,
   "id": "3c3b0dfb",
   "metadata": {},
   "outputs": [
    {
     "name": "stdout",
     "output_type": "stream",
     "text": [
      "Index(['Name', 'Age', 'City', 'Score'], dtype='object')\n"
     ]
    }
   ],
   "source": [
    "print(df2.columns)"
   ]
  },
  {
   "cell_type": "code",
   "execution_count": 8,
   "id": "782f3260",
   "metadata": {},
   "outputs": [
    {
     "name": "stdout",
     "output_type": "stream",
     "text": [
      "<class 'pandas.core.frame.DataFrame'>\n",
      "RangeIndex: 8 entries, 0 to 7\n",
      "Data columns (total 4 columns):\n",
      " #   Column  Non-Null Count  Dtype  \n",
      "---  ------  --------------  -----  \n",
      " 0   Name    8 non-null      object \n",
      " 1   Age     7 non-null      float64\n",
      " 2   City    7 non-null      object \n",
      " 3   Score   8 non-null      int64  \n",
      "dtypes: float64(1), int64(1), object(2)\n",
      "memory usage: 388.0+ bytes\n"
     ]
    }
   ],
   "source": [
    "df2.info()"
   ]
  },
  {
   "cell_type": "code",
   "execution_count": 9,
   "id": "e7825bf6",
   "metadata": {},
   "outputs": [
    {
     "name": "stdout",
     "output_type": "stream",
     "text": [
      "     Name  Age       City\n",
      "0  Urbesh   21     Haldia\n",
      "1  Shayak   21     Haldia\n",
      "2   Rupam   23     Howrah\n",
      "3    Raha   25  Hindmotor\n",
      "4    Haka   27   Sapurchi\n",
      "5    Jeet   29  Somewhere\n",
      "6   Venom   25       Kona\n"
     ]
    }
   ],
   "source": [
    "data1={\n",
    "    \"Name\":[\"Urbesh\",\"Shayak\",\"Rupam\",\"Raha\",\"Haka\",\"Jeet\",\"Venom\"],\n",
    "    \"Age\":[21,21,23,25,27,29,25],\n",
    "    \"City\":[\"Haldia\",\"Haldia\",\"Howrah\",\"Hindmotor\",\"Sapurchi\",\"Somewhere\",\"Kona\"]\n",
    "}\n",
    "df3=pd.DataFrame(data1)\n",
    "print(df3)"
   ]
  },
  {
   "cell_type": "code",
   "execution_count": 10,
   "id": "b31ab7d9",
   "metadata": {},
   "outputs": [
    {
     "data": {
      "text/html": [
       "<div>\n",
       "<style scoped>\n",
       "    .dataframe tbody tr th:only-of-type {\n",
       "        vertical-align: middle;\n",
       "    }\n",
       "\n",
       "    .dataframe tbody tr th {\n",
       "        vertical-align: top;\n",
       "    }\n",
       "\n",
       "    .dataframe thead th {\n",
       "        text-align: right;\n",
       "    }\n",
       "</style>\n",
       "<table border=\"1\" class=\"dataframe\">\n",
       "  <thead>\n",
       "    <tr style=\"text-align: right;\">\n",
       "      <th></th>\n",
       "      <th>Name</th>\n",
       "      <th>Age</th>\n",
       "      <th>City</th>\n",
       "    </tr>\n",
       "  </thead>\n",
       "  <tbody>\n",
       "    <tr>\n",
       "      <th>1</th>\n",
       "      <td>Shayak</td>\n",
       "      <td>21</td>\n",
       "      <td>Haldia</td>\n",
       "    </tr>\n",
       "  </tbody>\n",
       "</table>\n",
       "</div>"
      ],
      "text/plain": [
       "     Name  Age    City\n",
       "1  Shayak   21  Haldia"
      ]
     },
     "execution_count": 10,
     "metadata": {},
     "output_type": "execute_result"
    }
   ],
   "source": [
    "df3.iloc[1:2,0:3]"
   ]
  },
  {
   "cell_type": "code",
   "execution_count": 11,
   "id": "556baf5b",
   "metadata": {},
   "outputs": [
    {
     "data": {
      "text/html": [
       "<div>\n",
       "<style scoped>\n",
       "    .dataframe tbody tr th:only-of-type {\n",
       "        vertical-align: middle;\n",
       "    }\n",
       "\n",
       "    .dataframe tbody tr th {\n",
       "        vertical-align: top;\n",
       "    }\n",
       "\n",
       "    .dataframe thead th {\n",
       "        text-align: right;\n",
       "    }\n",
       "</style>\n",
       "<table border=\"1\" class=\"dataframe\">\n",
       "  <thead>\n",
       "    <tr style=\"text-align: right;\">\n",
       "      <th></th>\n",
       "      <th>Age</th>\n",
       "    </tr>\n",
       "  </thead>\n",
       "  <tbody>\n",
       "    <tr>\n",
       "      <th>0</th>\n",
       "      <td>21</td>\n",
       "    </tr>\n",
       "    <tr>\n",
       "      <th>1</th>\n",
       "      <td>21</td>\n",
       "    </tr>\n",
       "    <tr>\n",
       "      <th>2</th>\n",
       "      <td>23</td>\n",
       "    </tr>\n",
       "    <tr>\n",
       "      <th>3</th>\n",
       "      <td>25</td>\n",
       "    </tr>\n",
       "    <tr>\n",
       "      <th>4</th>\n",
       "      <td>27</td>\n",
       "    </tr>\n",
       "    <tr>\n",
       "      <th>5</th>\n",
       "      <td>29</td>\n",
       "    </tr>\n",
       "    <tr>\n",
       "      <th>6</th>\n",
       "      <td>25</td>\n",
       "    </tr>\n",
       "  </tbody>\n",
       "</table>\n",
       "</div>"
      ],
      "text/plain": [
       "   Age\n",
       "0   21\n",
       "1   21\n",
       "2   23\n",
       "3   25\n",
       "4   27\n",
       "5   29\n",
       "6   25"
      ]
     },
     "execution_count": 11,
     "metadata": {},
     "output_type": "execute_result"
    }
   ],
   "source": [
    "df3.loc[0:7,[\"Age\"]]"
   ]
  },
  {
   "cell_type": "code",
   "execution_count": 12,
   "id": "6e53bfab",
   "metadata": {},
   "outputs": [
    {
     "data": {
      "text/html": [
       "<div>\n",
       "<style scoped>\n",
       "    .dataframe tbody tr th:only-of-type {\n",
       "        vertical-align: middle;\n",
       "    }\n",
       "\n",
       "    .dataframe tbody tr th {\n",
       "        vertical-align: top;\n",
       "    }\n",
       "\n",
       "    .dataframe thead th {\n",
       "        text-align: right;\n",
       "    }\n",
       "</style>\n",
       "<table border=\"1\" class=\"dataframe\">\n",
       "  <thead>\n",
       "    <tr style=\"text-align: right;\">\n",
       "      <th></th>\n",
       "      <th>Name</th>\n",
       "      <th>Age</th>\n",
       "      <th>City</th>\n",
       "      <th>AgeGroup</th>\n",
       "    </tr>\n",
       "  </thead>\n",
       "  <tbody>\n",
       "    <tr>\n",
       "      <th>0</th>\n",
       "      <td>Urbesh</td>\n",
       "      <td>21</td>\n",
       "      <td>Haldia</td>\n",
       "      <td>Yes</td>\n",
       "    </tr>\n",
       "    <tr>\n",
       "      <th>1</th>\n",
       "      <td>Shayak</td>\n",
       "      <td>21</td>\n",
       "      <td>Haldia</td>\n",
       "      <td>Yes</td>\n",
       "    </tr>\n",
       "    <tr>\n",
       "      <th>2</th>\n",
       "      <td>Rupam</td>\n",
       "      <td>23</td>\n",
       "      <td>Howrah</td>\n",
       "      <td>Yes</td>\n",
       "    </tr>\n",
       "    <tr>\n",
       "      <th>3</th>\n",
       "      <td>Raha</td>\n",
       "      <td>25</td>\n",
       "      <td>Hindmotor</td>\n",
       "      <td>Yes</td>\n",
       "    </tr>\n",
       "    <tr>\n",
       "      <th>4</th>\n",
       "      <td>Haka</td>\n",
       "      <td>27</td>\n",
       "      <td>Sapurchi</td>\n",
       "      <td>Yes</td>\n",
       "    </tr>\n",
       "  </tbody>\n",
       "</table>\n",
       "</div>"
      ],
      "text/plain": [
       "     Name  Age       City AgeGroup\n",
       "0  Urbesh   21     Haldia      Yes\n",
       "1  Shayak   21     Haldia      Yes\n",
       "2   Rupam   23     Howrah      Yes\n",
       "3    Raha   25  Hindmotor      Yes\n",
       "4    Haka   27   Sapurchi      Yes"
      ]
     },
     "execution_count": 12,
     "metadata": {},
     "output_type": "execute_result"
    }
   ],
   "source": [
    "df3[\"AgeGroup\"]=np.where(df3[\"Age\"]>=18,'Yes','No')\n",
    "df3.head()"
   ]
  }
 ],
 "metadata": {
  "kernelspec": {
   "display_name": "Python 3",
   "language": "python",
   "name": "python3"
  },
  "language_info": {
   "codemirror_mode": {
    "name": "ipython",
    "version": 3
   },
   "file_extension": ".py",
   "mimetype": "text/x-python",
   "name": "python",
   "nbconvert_exporter": "python",
   "pygments_lexer": "ipython3",
   "version": "3.12.4"
  }
 },
 "nbformat": 4,
 "nbformat_minor": 5
}
