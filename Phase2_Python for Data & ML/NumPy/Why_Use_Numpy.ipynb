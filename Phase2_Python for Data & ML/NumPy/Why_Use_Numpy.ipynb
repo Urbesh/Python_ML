{
 "cells": [
  {
   "cell_type": "code",
   "execution_count": 1,
   "id": "7e5e946e",
   "metadata": {},
   "outputs": [],
   "source": [
    "import numpy as np\n",
    "import time"
   ]
  },
  {
   "cell_type": "markdown",
   "id": "f360b877",
   "metadata": {},
   "source": [
    "# NumPy vs. Python Lists – Performance Test\n",
    "Let's compare Python lists with NumPy arrays using a simple example."
   ]
  },
  {
   "cell_type": "code",
   "execution_count": 2,
   "id": "bd5b9712",
   "metadata": {},
   "outputs": [
    {
     "name": "stdout",
     "output_type": "stream",
     "text": [
      "Python list addition time: 0.049262285232543945\n",
      "NumPy array addition time: 0.01821589469909668\n"
     ]
    }
   ],
   "source": [
    "# Python list\n",
    "size = 1_000_000\n",
    "list1 = list(range(size))\n",
    "list2 = list(range(size))\n",
    "\n",
    "start = time.time()\n",
    "result = [x + y for x, y in zip(list1, list2)]\n",
    "end = time.time()\n",
    "print(\"Python list addition time:\", end - start)\n",
    "\n",
    "# NumPy array\n",
    "arr1 = np.array(list1)\n",
    "arr2 = np.array(list2)\n",
    "\n",
    "start = time.time()\n",
    "result = arr1 + arr2  # Vectorized operation\n",
    "end = time.time()\n",
    "print(\"NumPy array addition time:\", end - start)"
   ]
  },
  {
   "cell_type": "markdown",
   "id": "e01c4f45",
   "metadata": {},
   "source": [
    "# Creating NumPy Arrays"
   ]
  },
  {
   "cell_type": "code",
   "execution_count": 3,
   "id": "c166d10b",
   "metadata": {},
   "outputs": [
    {
     "name": "stdout",
     "output_type": "stream",
     "text": [
      "[1 2 3 4 5]\n",
      "[[1 2 3]\n",
      " [4 5 6]]\n",
      "Type: <class 'numpy.ndarray'>\n",
      "Shape of arr1: (5,)\n",
      "Shape of arr2: (2, 3)\n"
     ]
    }
   ],
   "source": [
    "# Creating a 1D NumPy array\n",
    "arr1 = np.array([1, 2, 3, 4, 5])\n",
    "print(arr1)\n",
    "\n",
    "# Creating a 2D NumPy array\n",
    "arr2 = np.array([[1, 2, 3], [4, 5, 6]])\n",
    "print(arr2)\n",
    "\n",
    "# Checking type and shape\n",
    "print(\"Type:\", type(arr1))\n",
    "print(\"Shape of arr1:\", arr1.shape)\n",
    "print(\"Shape of arr2:\", arr2.shape)"
   ]
  },
  {
   "cell_type": "markdown",
   "id": "6be3ca9a",
   "metadata": {},
   "source": [
    "# Memory Efficiency – NumPy vs. Lists"
   ]
  },
  {
   "cell_type": "code",
   "execution_count": 4,
   "id": "5994307a",
   "metadata": {},
   "outputs": [
    {
     "name": "stdout",
     "output_type": "stream",
     "text": [
      "Python list size: 8056000 bytes\n",
      "NumPy array size: 8000 bytes\n"
     ]
    }
   ],
   "source": [
    "import sys\n",
    "\n",
    "list_data = list(range(1000))\n",
    "numpy_data = np.array(list_data)\n",
    "\n",
    "print(\"Python list size:\", sys.getsizeof(list_data) * len(list_data), \"bytes\")\n",
    "print(\"NumPy array size:\", numpy_data.nbytes, \"bytes\")"
   ]
  },
  {
   "cell_type": "markdown",
   "id": "be500102",
   "metadata": {},
   "source": [
    "# Vectorization – No More Loops!\n",
    "NumPy avoids loops by applying operations to entire arrays at once using SIMD (Single Instruction, Multiple Data) and other low-level optimizations. SIMD is a CPU-level optimization provided by modern processors."
   ]
  },
  {
   "cell_type": "code",
   "execution_count": 5,
   "id": "9636f217",
   "metadata": {},
   "outputs": [
    {
     "name": "stdout",
     "output_type": "stream",
     "text": [
      "The square of list1: [0, 1, 4, 9, 16, 25, 36, 49, 64, 81, 100, 121, 144, 169, 196, 225, 256, 289, 324, 361]\n",
      "Time taken: 5.8407227993011475\n"
     ]
    }
   ],
   "source": [
    "size=1_000_000_00\n",
    "list1=list(range(size))\n",
    "start=time.time()\n",
    "list_square=[x**2 for x in list1]\n",
    "end=time.time()\n",
    "print(f\"The square of list1: {list_square [0:20]}\")\n",
    "print(f\"Time taken: {end-start}\")"
   ]
  },
  {
   "cell_type": "code",
   "execution_count": 6,
   "id": "0206f10d",
   "metadata": {},
   "outputs": [
    {
     "name": "stdout",
     "output_type": "stream",
     "text": [
      "The square of list1: [0, 1, 4, 9, 16, 25, 36, 49, 64, 81, 100, 121, 144, 169, 196, 225, 256, 289, 324, 361]\n",
      "Time taken: 0.5786271095275879\n"
     ]
    }
   ],
   "source": [
    "arr1= np.array(list1)\n",
    "start=time.time()\n",
    "numpy_square=arr1**2\n",
    "end=time.time()\n",
    "print(f\"The square of list1: {list_square [0:20]}\")\n",
    "print(f\"Time taken: {end-start}\")"
   ]
  }
 ],
 "metadata": {
  "kernelspec": {
   "display_name": "Python 3",
   "language": "python",
   "name": "python3"
  },
  "language_info": {
   "codemirror_mode": {
    "name": "ipython",
    "version": 3
   },
   "file_extension": ".py",
   "mimetype": "text/x-python",
   "name": "python",
   "nbconvert_exporter": "python",
   "pygments_lexer": "ipython3",
   "version": "3.11.9"
  }
 },
 "nbformat": 4,
 "nbformat_minor": 5
}
