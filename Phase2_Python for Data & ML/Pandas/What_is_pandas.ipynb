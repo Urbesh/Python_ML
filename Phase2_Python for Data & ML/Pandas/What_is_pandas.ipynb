{
 "cells": [
  {
   "cell_type": "markdown",
   "id": "a0286acc",
   "metadata": {},
   "source": [
    "# What is Pandas?\n",
    "Pandas is a powerful, open-source Python library used for data manipulation, cleaning, and analysis. It provides two main data structures:\n",
    "\n",
    "**Series**: A one-dimensional labeled array\n",
    "\n",
    "**DataFrame**: A two-dimensional labeled table (like an Excel sheet or SQL table)\n",
    "\n",
    "Pandas makes working with structured data fast, expressive, and flexible."
   ]
  },
  {
   "cell_type": "markdown",
   "id": "b52818ca",
   "metadata": {},
   "source": [
    "# Why Use Pandas?\n",
    "\n",
    "| Task                | Without Pandas           | With Pandas                  |\n",
    "|---------------------|-------------------------|------------------------------|\n",
    "| Load a CSV          | `open()` + loops        | `pd.read_csv()`              |\n",
    "| Filter rows         | Custom loop logic       | `df[df[\"col\"] > 5]`          |\n",
    "| Group & summarize   | Manual aggregation      | `df.groupby()`               |\n",
    "| Merge two datasets  | Nested loops            | `pd.merge()`                 |\n",
    "\n",
    "Pandas saves time, reduces code, and increases readability.\n"
   ]
  },
  {
   "cell_type": "markdown",
   "id": "baae4a53",
   "metadata": {},
   "source": [
    "# Pandas vs Excel vs SQL vs NumPy\n",
    "\n",
    "| Tool    | Strengths                                         | Weaknesses                                 |\n",
    "|---------|---------------------------------------------------|--------------------------------------------|\n",
    "| **Excel**   | Easy UI, great for small data                      | Slow, manual, not scalable                 |\n",
    "| **SQL**     | Efficient querying of big data                     | Not ideal for transformation logic         |\n",
    "| **NumPy**   | Fast, low-level array operations                   | No labels, harder for tabular data         |\n",
    "| **Pandas**  | Label-aware, fast, flexible                        | Slightly steep learning curve              |\n",
    "\n",
    "Pandas bridges the gap between **NumPy performance** and **Excel-like usability**. Pandas is built on top of NumPy.\n"
   ]
  }
 ],
 "metadata": {
  "language_info": {
   "name": "python"
  }
 },
 "nbformat": 4,
 "nbformat_minor": 5
}
