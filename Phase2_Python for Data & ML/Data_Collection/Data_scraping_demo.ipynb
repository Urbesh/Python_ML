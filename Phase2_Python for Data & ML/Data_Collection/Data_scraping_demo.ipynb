{
 "cells": [
  {
   "cell_type": "code",
   "execution_count": 2,
   "id": "3270e634",
   "metadata": {},
   "outputs": [
    {
     "name": "stdout",
     "output_type": "stream",
     "text": [
      "Downloaded page 1 successfully\n",
      "Downloaded page 2 successfully\n",
      "Downloaded page 3 successfully\n",
      "Downloaded page 4 successfully\n",
      "Downloaded page 5 successfully\n",
      "Downloaded page 6 successfully\n",
      "Downloaded page 7 successfully\n",
      "Downloaded page 8 successfully\n",
      "Downloaded page 9 successfully\n",
      "Downloaded page 10 successfully\n",
      "Downloaded page 11 successfully\n",
      "Downloaded page 12 successfully\n",
      "Downloaded page 13 successfully\n",
      "Downloaded page 14 successfully\n",
      "Downloaded page 15 successfully\n",
      "Downloaded page 16 successfully\n",
      "Downloaded page 17 successfully\n",
      "Downloaded page 18 successfully\n",
      "Downloaded page 19 successfully\n",
      "Downloaded page 20 successfully\n",
      "Here I want to collect only the data from hero page or landing page and data from laptop category\n",
      "All the data is stored in html folder\n"
     ]
    }
   ],
   "source": [
    "import requests\n",
    "url_heropage=\"https://webscraper.io/test-sites/e-commerce/static\"\n",
    "hero_page=requests.get(url_heropage)\n",
    "with open(f\"html/hero_page.html\",\"w\") as f:\n",
    "    f.write(hero_page.text)\n",
    "    for i in range(1,21):\n",
    "        url_laptop=f\"https://webscraper.io/test-sites/e-commerce/static/computers/laptops?page={i}\"\n",
    "        laptop_page=requests.get(url_laptop)\n",
    "        with open(f\"html/laptops_page{i}.html\",\"w\") as f:\n",
    "            f.write(laptop_page.text)\n",
    "            print(f\"Downloaded page {i} successfully\")\n",
    "print(\"Here I want to collect only the data from hero page or landing page and data from laptop category\")\n",
    "print(\"All the data is stored in html folder\")   "
   ]
  }
 ],
 "metadata": {
  "kernelspec": {
   "display_name": "base",
   "language": "python",
   "name": "python3"
  },
  "language_info": {
   "codemirror_mode": {
    "name": "ipython",
    "version": 3
   },
   "file_extension": ".py",
   "mimetype": "text/x-python",
   "name": "python",
   "nbconvert_exporter": "python",
   "pygments_lexer": "ipython3",
   "version": "3.13.5"
  }
 },
 "nbformat": 4,
 "nbformat_minor": 5
}
