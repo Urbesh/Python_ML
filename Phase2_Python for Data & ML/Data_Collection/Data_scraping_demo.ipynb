{
 "cells": [
  {
   "cell_type": "code",
   "execution_count": 1,
   "id": "3270e634",
   "metadata": {},
   "outputs": [
    {
     "name": "stdout",
     "output_type": "stream",
     "text": [
      "Downloaded page 1 successfully\n",
      "Downloaded page 2 successfully\n",
      "Downloaded page 3 successfully\n",
      "Downloaded page 4 successfully\n",
      "Downloaded page 5 successfully\n",
      "Downloaded page 6 successfully\n",
      "Downloaded page 7 successfully\n",
      "Downloaded page 8 successfully\n",
      "Downloaded page 9 successfully\n",
      "Downloaded page 10 successfully\n",
      "Downloaded page 11 successfully\n",
      "Downloaded page 12 successfully\n",
      "Downloaded page 13 successfully\n",
      "Downloaded page 14 successfully\n",
      "Downloaded page 15 successfully\n",
      "Downloaded page 16 successfully\n",
      "Downloaded page 17 successfully\n",
      "Downloaded page 18 successfully\n",
      "Downloaded page 19 successfully\n",
      "Downloaded page 20 successfully\n",
      "Here I want to collect only the data from hero page or landing page and data from laptop category\n",
      "All the data is stored in html folder\n"
     ]
    }
   ],
   "source": [
    "import requests\n",
    "url_heropage=\"https://webscraper.io/test-sites/e-commerce/static\"\n",
    "hero_page=requests.get(url_heropage)\n",
    "with open(f\"html/hero_page.html\",\"w\") as f:\n",
    "    f.write(hero_page.text)\n",
    "    for i in range(1,21):\n",
    "        url_laptop=f\"https://webscraper.io/test-sites/e-commerce/static/computers/laptops?page={i}\"\n",
    "        laptop_page=requests.get(url_laptop)\n",
    "        with open(f\"html/laptops_page{i}.html\",\"w\") as f:\n",
    "            f.write(laptop_page.text)\n",
    "            print(f\"Downloaded page {i} successfully\")\n",
    "print(\"Here I want to collect only the data from hero page or landing page and data from laptop category\")\n",
    "print(\"All the data is stored in html folder\")   "
   ]
  },
  {
   "cell_type": "code",
   "execution_count": 2,
   "id": "638c2886",
   "metadata": {},
   "outputs": [],
   "source": [
    "from bs4 import BeautifulSoup"
   ]
  },
  {
   "cell_type": "code",
   "execution_count": 3,
   "id": "0297da44",
   "metadata": {},
   "outputs": [],
   "source": [
    "with open(f\"html/laptops_page1.html\") as f:\n",
    "    content=f.read()"
   ]
  },
  {
   "cell_type": "code",
   "execution_count": 4,
   "id": "6e839b44",
   "metadata": {},
   "outputs": [],
   "source": [
    "soup=BeautifulSoup(content,\"html.parser\")"
   ]
  },
  {
   "cell_type": "code",
   "execution_count": 5,
   "id": "127a2887",
   "metadata": {},
   "outputs": [],
   "source": [
    "products=soup.select(\"div.card.thumbnail\")"
   ]
  },
  {
   "cell_type": "code",
   "execution_count": 13,
   "id": "18b0cf2c",
   "metadata": {},
   "outputs": [
    {
     "data": {
      "text/plain": [
       "[['Packard 255 G2',\n",
       "  '15.6\", AMD E2-3800 1.3GHz, 4GB, 500GB, Windows 8.1',\n",
       "  '$416.99',\n",
       "  '2',\n",
       "  '2'],\n",
       " ['Aspire E1-510',\n",
       "  '15.6\", Pentium N3520 2.16GHz, 4GB, 500GB, Linux',\n",
       "  '$306.99',\n",
       "  '3',\n",
       "  '2'],\n",
       " ['ThinkPad T540p',\n",
       "  '15.6\", Core i5-4200M, 4GB, 500GB, Win7 Pro 64bit',\n",
       "  '$1178.99',\n",
       "  '1',\n",
       "  '2'],\n",
       " ['ProBook',\n",
       "  '14\", Core i5 2.6GHz, 4GB, 500GB, Win7 Pro 64bit',\n",
       "  '$739.99',\n",
       "  '4',\n",
       "  '8'],\n",
       " ['ThinkPad X240',\n",
       "  '12.5\", Core i5-4300U, 8GB, 240GB SSD, Win7 Pro 64bit',\n",
       "  '$1311.99',\n",
       "  '3',\n",
       "  '12'],\n",
       " ['Aspire E1-572G',\n",
       "  '15.6\", Core i5-4200U, 8GB, 1TB, Radeon R7 M265, Windows 8.1',\n",
       "  '$581.99',\n",
       "  '1',\n",
       "  '2']]"
      ]
     },
     "execution_count": 13,
     "metadata": {},
     "output_type": "execute_result"
    }
   ],
   "source": [
    "items=[]\n",
    "for product in products:\n",
    "    a=product.select_one(\"h4 a\")\n",
    "    if not a:\n",
    "        continue\n",
    "    title=a.get(\"title\")\n",
    "    price=product.select_one(\"h4 span\").text\n",
    "    description=product.select_one(\"p.description.card-text\").text\n",
    "    reviews=product.select_one(\"p span\").text\n",
    "    rating_element=product.select_one(\"p[data-rating]\")\n",
    "    rating=rating_element.get(\"data-rating\")\n",
    "    items.append([title,description,price,rating,reviews])\n",
    "items"
   ]
  },
  {
   "cell_type": "code",
   "execution_count": 14,
   "id": "5030c77a",
   "metadata": {},
   "outputs": [],
   "source": [
    "import pandas as pd"
   ]
  },
  {
   "cell_type": "code",
   "execution_count": 15,
   "id": "bf03f4d2",
   "metadata": {},
   "outputs": [
    {
     "data": {
      "text/html": [
       "<div>\n",
       "<style scoped>\n",
       "    .dataframe tbody tr th:only-of-type {\n",
       "        vertical-align: middle;\n",
       "    }\n",
       "\n",
       "    .dataframe tbody tr th {\n",
       "        vertical-align: top;\n",
       "    }\n",
       "\n",
       "    .dataframe thead th {\n",
       "        text-align: right;\n",
       "    }\n",
       "</style>\n",
       "<table border=\"1\" class=\"dataframe\">\n",
       "  <thead>\n",
       "    <tr style=\"text-align: right;\">\n",
       "      <th></th>\n",
       "      <th>Laptop Name</th>\n",
       "      <th>Laptop Description</th>\n",
       "      <th>Price</th>\n",
       "      <th>Rating(Star(s))</th>\n",
       "      <th>Reviews</th>\n",
       "    </tr>\n",
       "  </thead>\n",
       "  <tbody>\n",
       "    <tr>\n",
       "      <th>0</th>\n",
       "      <td>Packard 255 G2</td>\n",
       "      <td>15.6\", AMD E2-3800 1.3GHz, 4GB, 500GB, Windows...</td>\n",
       "      <td>$416.99</td>\n",
       "      <td>2</td>\n",
       "      <td>2</td>\n",
       "    </tr>\n",
       "    <tr>\n",
       "      <th>1</th>\n",
       "      <td>Aspire E1-510</td>\n",
       "      <td>15.6\", Pentium N3520 2.16GHz, 4GB, 500GB, Linux</td>\n",
       "      <td>$306.99</td>\n",
       "      <td>3</td>\n",
       "      <td>2</td>\n",
       "    </tr>\n",
       "    <tr>\n",
       "      <th>2</th>\n",
       "      <td>ThinkPad T540p</td>\n",
       "      <td>15.6\", Core i5-4200M, 4GB, 500GB, Win7 Pro 64bit</td>\n",
       "      <td>$1178.99</td>\n",
       "      <td>1</td>\n",
       "      <td>2</td>\n",
       "    </tr>\n",
       "    <tr>\n",
       "      <th>3</th>\n",
       "      <td>ProBook</td>\n",
       "      <td>14\", Core i5 2.6GHz, 4GB, 500GB, Win7 Pro 64bit</td>\n",
       "      <td>$739.99</td>\n",
       "      <td>4</td>\n",
       "      <td>8</td>\n",
       "    </tr>\n",
       "    <tr>\n",
       "      <th>4</th>\n",
       "      <td>ThinkPad X240</td>\n",
       "      <td>12.5\", Core i5-4300U, 8GB, 240GB SSD, Win7 Pro...</td>\n",
       "      <td>$1311.99</td>\n",
       "      <td>3</td>\n",
       "      <td>12</td>\n",
       "    </tr>\n",
       "    <tr>\n",
       "      <th>5</th>\n",
       "      <td>Aspire E1-572G</td>\n",
       "      <td>15.6\", Core i5-4200U, 8GB, 1TB, Radeon R7 M265...</td>\n",
       "      <td>$581.99</td>\n",
       "      <td>1</td>\n",
       "      <td>2</td>\n",
       "    </tr>\n",
       "  </tbody>\n",
       "</table>\n",
       "</div>"
      ],
      "text/plain": [
       "      Laptop Name                                 Laptop Description  \\\n",
       "0  Packard 255 G2  15.6\", AMD E2-3800 1.3GHz, 4GB, 500GB, Windows...   \n",
       "1   Aspire E1-510    15.6\", Pentium N3520 2.16GHz, 4GB, 500GB, Linux   \n",
       "2  ThinkPad T540p   15.6\", Core i5-4200M, 4GB, 500GB, Win7 Pro 64bit   \n",
       "3         ProBook    14\", Core i5 2.6GHz, 4GB, 500GB, Win7 Pro 64bit   \n",
       "4   ThinkPad X240  12.5\", Core i5-4300U, 8GB, 240GB SSD, Win7 Pro...   \n",
       "5  Aspire E1-572G  15.6\", Core i5-4200U, 8GB, 1TB, Radeon R7 M265...   \n",
       "\n",
       "      Price Rating(Star(s)) Reviews  \n",
       "0   $416.99               2       2  \n",
       "1   $306.99               3       2  \n",
       "2  $1178.99               1       2  \n",
       "3   $739.99               4       8  \n",
       "4  $1311.99               3      12  \n",
       "5   $581.99               1       2  "
      ]
     },
     "execution_count": 15,
     "metadata": {},
     "output_type": "execute_result"
    }
   ],
   "source": [
    "df=pd.DataFrame(items,columns=[\"Laptop Name\",\"Laptop Description\",\"Price\",\"Rating(Star(s))\",\"Reviews\"])\n",
    "df"
   ]
  },
  {
   "cell_type": "code",
   "execution_count": 16,
   "id": "c3985d98",
   "metadata": {},
   "outputs": [],
   "source": [
    "df.to_csv(\"html/data_scrape_page1.csv\",index=False)"
   ]
  },
  {
   "cell_type": "code",
   "execution_count": 17,
   "id": "5d8130fd",
   "metadata": {},
   "outputs": [
    {
     "data": {
      "text/html": [
       "<div>\n",
       "<style scoped>\n",
       "    .dataframe tbody tr th:only-of-type {\n",
       "        vertical-align: middle;\n",
       "    }\n",
       "\n",
       "    .dataframe tbody tr th {\n",
       "        vertical-align: top;\n",
       "    }\n",
       "\n",
       "    .dataframe thead th {\n",
       "        text-align: right;\n",
       "    }\n",
       "</style>\n",
       "<table border=\"1\" class=\"dataframe\">\n",
       "  <thead>\n",
       "    <tr style=\"text-align: right;\">\n",
       "      <th></th>\n",
       "      <th>Laptop Name</th>\n",
       "      <th>Laptop Description</th>\n",
       "      <th>Price</th>\n",
       "      <th>Rating(Star(s))</th>\n",
       "      <th>Reviews</th>\n",
       "    </tr>\n",
       "  </thead>\n",
       "  <tbody>\n",
       "    <tr>\n",
       "      <th>0</th>\n",
       "      <td>Packard 255 G2</td>\n",
       "      <td>15.6\", AMD E2-3800 1.3GHz, 4GB, 500GB, Windows...</td>\n",
       "      <td>$416.99</td>\n",
       "      <td>2</td>\n",
       "      <td>2</td>\n",
       "    </tr>\n",
       "    <tr>\n",
       "      <th>1</th>\n",
       "      <td>Aspire E1-510</td>\n",
       "      <td>15.6\", Pentium N3520 2.16GHz, 4GB, 500GB, Linux</td>\n",
       "      <td>$306.99</td>\n",
       "      <td>3</td>\n",
       "      <td>2</td>\n",
       "    </tr>\n",
       "    <tr>\n",
       "      <th>2</th>\n",
       "      <td>ThinkPad T540p</td>\n",
       "      <td>15.6\", Core i5-4200M, 4GB, 500GB, Win7 Pro 64bit</td>\n",
       "      <td>$1178.99</td>\n",
       "      <td>1</td>\n",
       "      <td>2</td>\n",
       "    </tr>\n",
       "    <tr>\n",
       "      <th>3</th>\n",
       "      <td>ProBook</td>\n",
       "      <td>14\", Core i5 2.6GHz, 4GB, 500GB, Win7 Pro 64bit</td>\n",
       "      <td>$739.99</td>\n",
       "      <td>4</td>\n",
       "      <td>8</td>\n",
       "    </tr>\n",
       "    <tr>\n",
       "      <th>4</th>\n",
       "      <td>ThinkPad X240</td>\n",
       "      <td>12.5\", Core i5-4300U, 8GB, 240GB SSD, Win7 Pro...</td>\n",
       "      <td>$1311.99</td>\n",
       "      <td>3</td>\n",
       "      <td>12</td>\n",
       "    </tr>\n",
       "    <tr>\n",
       "      <th>5</th>\n",
       "      <td>Aspire E1-572G</td>\n",
       "      <td>15.6\", Core i5-4200U, 8GB, 1TB, Radeon R7 M265...</td>\n",
       "      <td>$581.99</td>\n",
       "      <td>1</td>\n",
       "      <td>2</td>\n",
       "    </tr>\n",
       "  </tbody>\n",
       "</table>\n",
       "</div>"
      ],
      "text/plain": [
       "      Laptop Name                                 Laptop Description  \\\n",
       "0  Packard 255 G2  15.6\", AMD E2-3800 1.3GHz, 4GB, 500GB, Windows...   \n",
       "1   Aspire E1-510    15.6\", Pentium N3520 2.16GHz, 4GB, 500GB, Linux   \n",
       "2  ThinkPad T540p   15.6\", Core i5-4200M, 4GB, 500GB, Win7 Pro 64bit   \n",
       "3         ProBook    14\", Core i5 2.6GHz, 4GB, 500GB, Win7 Pro 64bit   \n",
       "4   ThinkPad X240  12.5\", Core i5-4300U, 8GB, 240GB SSD, Win7 Pro...   \n",
       "5  Aspire E1-572G  15.6\", Core i5-4200U, 8GB, 1TB, Radeon R7 M265...   \n",
       "\n",
       "      Price  Rating(Star(s))  Reviews  \n",
       "0   $416.99                2        2  \n",
       "1   $306.99                3        2  \n",
       "2  $1178.99                1        2  \n",
       "3   $739.99                4        8  \n",
       "4  $1311.99                3       12  \n",
       "5   $581.99                1        2  "
      ]
     },
     "execution_count": 17,
     "metadata": {},
     "output_type": "execute_result"
    }
   ],
   "source": [
    "df1=pd.read_csv(\"html/data_scrape_page1.csv\")\n",
    "df1"
   ]
  }
 ],
 "metadata": {
  "kernelspec": {
   "display_name": "base",
   "language": "python",
   "name": "python3"
  },
  "language_info": {
   "codemirror_mode": {
    "name": "ipython",
    "version": 3
   },
   "file_extension": ".py",
   "mimetype": "text/x-python",
   "name": "python",
   "nbconvert_exporter": "python",
   "pygments_lexer": "ipython3",
   "version": "3.13.5"
  }
 },
 "nbformat": 4,
 "nbformat_minor": 5
}
